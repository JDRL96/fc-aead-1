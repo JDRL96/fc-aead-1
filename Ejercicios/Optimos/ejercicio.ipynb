{
 "cells": [
  {
   "cell_type": "code",
   "execution_count": null,
   "metadata": {},
   "outputs": [],
   "source": [
    "# Primero los preparativos\n",
    "import numpy as np\n",
    "import itertools\n",
    "import matplotlib.pyplot as plt\n",
    "import seaborn as sns\n",
    "sns.set()\n",
    "\n",
    "# Función ayudadora para graficar\n",
    "def plotInRange(limits, func, minimum = None):\n",
    "    xx = np.linspace(limits[0,0], limits[0,1], 100)\n",
    "    yy = np.linspace(limits[1,0], limits[1,1], 100)\n",
    "    zz = np.zeros([len(xx), len(yy)])\n",
    "    for i in range(0,len(xx)):\n",
    "        for j in range(0,len(yy)):\n",
    "            zz[j, i] = func(np.array([xx[i], yy[j]]))\n",
    "    plt.pcolor(xx,yy,zz)\n",
    "    if minimum != None:\n",
    "        plt.plot(minimum[0],minimum[1],'r.')"
   ]
  },
  {
   "cell_type": "markdown",
   "metadata": {},
   "source": [
    "## Búsqueda de óptimos con malla\n",
    "\n",
    "Definan la función `search` de la clase Malla, que debe generar la retícula de búsqueda a partir de la matriz `self.limits`, y debe regresar como valor (ya sea en tupla, lista, o `np.array`) el punto mínimo.\n",
    "\n",
    "La estructura de la matriz limits es la siguiente:\n",
    "\n",
    "$$\n",
    "\\underbrace{\n",
    "\\begin{bmatrix}\n",
    "    l_{11} & l_{12} & l_{13} & \\dots  & l_{1n} \\\\\n",
    "    l_{21} & l_{22} & l_{23} & \\dots  & l_{2n} \\\\\n",
    "    \\vdots & \\vdots & \\vdots & \\ddots & \\vdots \\\\\n",
    "    l_{m1} & l_{m2} & l_{m3} & \\dots  & l_{mn}\n",
    "\\end{bmatrix}\n",
    "}_{\\text{Esquinas de los cuadrados como columnas}}\n",
    "$$\n",
    "\n",
    "Esto es un espacio de _m dimensiones_\n",
    "\n",
    "**Hint**: Hay que hacer un producto cartesiano dentro de un par de ciclos for, de otra manera es complicado que salga. También es una buena idea usar `float('Inf')`"
   ]
  },
  {
   "cell_type": "code",
   "execution_count": null,
   "metadata": {},
   "outputs": [],
   "source": [
    "class Malla:\n",
    "    def __init__(self, limits, nodes):\n",
    "        self.limits = np.array([np.linspace(row[0], row[1], nodes) for row in limits])\n",
    "    \n",
    "    def search(self, func):\n",
    "        pass"
   ]
  },
  {
   "cell_type": "markdown",
   "metadata": {},
   "source": [
    "Verifique su solución con las siguientes funciones, en el cubo (cuadrado en este caso) de esquinas (-10,10) y (10,10)"
   ]
  },
  {
   "cell_type": "code",
   "execution_count": null,
   "metadata": {},
   "outputs": [],
   "source": [
    "limits = np.array(\n",
    "    [[-10,10],\n",
    "     [-10,10]]\n",
    ")\n",
    "\n",
    "def cuadr(vec):\n",
    "    return np.sum(vec**2)\n",
    "\n",
    "def sinus(vec):\n",
    "    return 4*np.sin((vec[0]-12)/8)*np.cos((vec[1]-3)/11)"
   ]
  },
  {
   "cell_type": "markdown",
   "metadata": {},
   "source": [
    "## Búsqueda estocástica de óptimos"
   ]
  },
  {
   "cell_type": "code",
   "execution_count": null,
   "metadata": {},
   "outputs": [],
   "source": [
    "class Stochastic:\n",
    "    def __init__(self, limits, attempts):\n",
    "        self.attempts = attempts\n",
    "\n",
    "    def search(self, func):\n",
    "        pass"
   ]
  },
  {
   "cell_type": "markdown",
   "metadata": {},
   "source": [
    "## Descenso de gradiente\n",
    "\n",
    "Para las dos funciones anteriores, deriven el gradiente, y completen la clase `GradSearch` (es decir, el metodo `search` que obtiene como parámetros una función y su gradiente)."
   ]
  },
  {
   "cell_type": "code",
   "execution_count": null,
   "metadata": {},
   "outputs": [],
   "source": [
    "class GradSearch:\n",
    "    def __init__(self, mu, epsilon, nmax):\n",
    "        self.mu = mu\n",
    "        self.epsilon = epsilon\n",
    "        self.nmax = nmax\n",
    "    \n",
    "    def search(self, func, dfunc):\n",
    "        pass"
   ]
  }
 ],
 "metadata": {
  "kernelspec": {
   "display_name": "Python 3",
   "language": "python",
   "name": "python3"
  },
  "language_info": {
   "codemirror_mode": {
    "name": "ipython",
    "version": 3
   },
   "file_extension": ".py",
   "mimetype": "text/x-python",
   "name": "python",
   "nbconvert_exporter": "python",
   "pygments_lexer": "ipython3",
   "version": "3.7.3"
  }
 },
 "nbformat": 4,
 "nbformat_minor": 2
}
