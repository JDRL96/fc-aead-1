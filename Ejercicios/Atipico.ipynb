{
 "cells": [
  {
   "cell_type": "code",
   "execution_count": null,
   "metadata": {},
   "outputs": [],
   "source": [
    "import pandas as pd\n",
    "import numpy as np\n",
    "\n",
    "import matplotlib.pyplot as plt\n",
    "import seaborn as sns\n",
    "\n",
    "from grade import Exo1, Exo2\n",
    "import hashlib\n",
    "\n",
    "sns.set()"
   ]
  },
  {
   "cell_type": "markdown",
   "metadata": {},
   "source": [
    "¿Sobre qué datos vamos a trabajar? Vamos a cargar en el siguiente bloque una serie y un data frame, de los archivos \"serie.csv\" y \"dataframe.csv\""
   ]
  },
  {
   "cell_type": "code",
   "execution_count": null,
   "metadata": {},
   "outputs": [],
   "source": [
    "serie = pd.read_csv(\"serie.csv\").iloc[:,0]\n",
    "df = pd.read_csv(\"dataframe.csv\")"
   ]
  },
  {
   "cell_type": "markdown",
   "metadata": {},
   "source": [
    "# Z-Score"
   ]
  },
  {
   "cell_type": "markdown",
   "metadata": {},
   "source": [
    "Calcule el z-score para cada valor de la serie, y descarte los valores considerados atípicos cuando éste supera el valor 2.5. Para verificar si su respuesta es correcta, busque la suma de todos los valores que no descartó, haga un cast a un `int` (o lo que es lo mismo, \"floor\" al flotante que les quede) y pásenselo a la función Exo1."
   ]
  },
  {
   "cell_type": "code",
   "execution_count": null,
   "metadata": {},
   "outputs": [],
   "source": [
    "# Ordenamos la serie\n",
    "serie_ord = serie.copy() # Hay que arreglar esto\n",
    "\n",
    "# Calculamos el z-score\n",
    "zscore = serie_ord+10 # Hay que arreglar esto\n",
    "\n",
    "# Descartamos los valores que no nos interesan\n",
    "zscore = zscore[zscore == 0] # Hay que arreglar esto\n",
    "\n",
    "# Hacemos la suma de estos, y hacemos cast a un int\n",
    "Exo1(int(0))"
   ]
  },
  {
   "cell_type": "markdown",
   "metadata": {},
   "source": [
    "# IQR"
   ]
  },
  {
   "cell_type": "markdown",
   "metadata": {},
   "source": [
    "Misma mentalidad, pero ahora calcule los cuartile susando `np.percentile` y `np.logical_and`"
   ]
  },
  {
   "cell_type": "code",
   "execution_count": null,
   "metadata": {},
   "outputs": [],
   "source": [
    "Q1 = 0\n",
    "Q3 = 1\n",
    "\n",
    "IQR = Q3 - Q1\n",
    "\n",
    "serie_iqr = serie[serie==0]\n",
    "\n",
    "# Hacemos la suma de estos, y hacemos cast a un int\n",
    "Exo2(int(0))"
   ]
  },
  {
   "cell_type": "markdown",
   "metadata": {},
   "source": [
    "# DBSCAN"
   ]
  },
  {
   "cell_type": "markdown",
   "metadata": {},
   "source": [
    "Contemple la distribución de puntos de df"
   ]
  },
  {
   "cell_type": "code",
   "execution_count": null,
   "metadata": {},
   "outputs": [],
   "source": [
    "plt.plot(df.iloc[:,0], df.iloc[:,1], '.')"
   ]
  },
  {
   "cell_type": "markdown",
   "metadata": {},
   "source": [
    "Como último ejercicio, haga la implementación correcta de la clase `DBSCAN`. Para ello, está la función auxiliar `euclidean`"
   ]
  },
  {
   "cell_type": "code",
   "execution_count": null,
   "metadata": {},
   "outputs": [],
   "source": [
    "def euclidean(x, y):\n",
    "    return np.linalg.norm(x - y)"
   ]
  },
  {
   "cell_type": "markdown",
   "metadata": {},
   "source": [
    "El único método a implementar es la función `classify`, que toma como único argumento los datos, los guarda, y debe guardar los índices de los puntos clasificados como Núcleo, Frontera y valores atípicos."
   ]
  },
  {
   "cell_type": "code",
   "execution_count": null,
   "metadata": {},
   "outputs": [],
   "source": [
    "class DBSCAN:\n",
    "    def __init__(self, epsilon, minPts, metric = euclidean):\n",
    "        self.metric = metric\n",
    "        self.kernelPoints = []\n",
    "        self.frontierPoints = []\n",
    "        self.outliers = []\n",
    "\n",
    "    def classify(self, data):\n",
    "        pass"
   ]
  },
  {
   "cell_type": "code",
   "execution_count": null,
   "metadata": {},
   "outputs": [],
   "source": []
  }
 ],
 "metadata": {
  "kernelspec": {
   "display_name": "Python 3",
   "language": "python",
   "name": "python3"
  },
  "language_info": {
   "codemirror_mode": {
    "name": "ipython",
    "version": 3
   },
   "file_extension": ".py",
   "mimetype": "text/x-python",
   "name": "python",
   "nbconvert_exporter": "python",
   "pygments_lexer": "ipython3",
   "version": "3.6.7"
  }
 },
 "nbformat": 4,
 "nbformat_minor": 2
}
