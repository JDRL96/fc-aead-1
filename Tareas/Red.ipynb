{
 "cells": [
  {
   "cell_type": "markdown",
   "metadata": {},
   "source": [
    "## Una sencilla pero divertida red neuronal"
   ]
  },
  {
   "cell_type": "code",
   "execution_count": null,
   "metadata": {},
   "outputs": [],
   "source": [
    "import numpy as np\n",
    "import matplotlib.pyplot as plt\n",
    "import seaborn as sns\n",
    "import random\n",
    "sns.set()"
   ]
  },
  {
   "cell_type": "markdown",
   "metadata": {},
   "source": [
    "De la clase definida abajo, _sólo_ hace falta llenar la función `train`. Unas descripciones de ayuda:\n",
    "\n",
    "* `self.W`: Lista de matrices, cada una con las dimensiones mencionadas en clase\n",
    "* `self.b`: Lista de vectores, cada uno con las dimensiones mencionadas en clase\n",
    "\n",
    "Para la función `train`\n",
    "\n",
    "* `x_train`: Matriz con las \"mediciones\" como renglones\n",
    "* `y_train`: Vector de variables dependientes\n",
    "* `k`: Número de iteraciones\n",
    "* `mu`: Tamaño del paso en el descenso de gradiente\n",
    "* `batch`: Número de elementos a considerar para calcular el gradiente\n",
    "\n",
    "La opción `batch` sería mágico que sí la tomen en cuenta, aunque es algo opcional.\n",
    "\n",
    "**Hint**: Pueden obtener k de n elementos _sin repetición_ usando la función `random.choices`"
   ]
  },
  {
   "cell_type": "code",
   "execution_count": null,
   "metadata": {},
   "outputs": [],
   "source": [
    "class SimpleNetwork:\n",
    "    def __init__(self, n):\n",
    "        \"\"\"Defines a neural network with 1 layer (L=1) and n-neurons\"\"\"\n",
    "        self.W = [] # Array of matrices\n",
    "        # In this case, the dimensions are quite trivial\n",
    "        self.W.append(np.random.normal(size = (1,n)))\n",
    "        self.W.append(np.random.normal(size = (n,1)))\n",
    "        \n",
    "        self.b = []\n",
    "        self.b.append(np.random.normal(size = (n,1)))\n",
    "        self.b.append(np.random.normal(size = (1,1)))\n",
    "    \n",
    "    def evaluate(self, x):\n",
    "        # Propagate the values through the net\n",
    "        counter = 0\n",
    "        for w,b in zip(self.W, self.b):\n",
    "            if counter == len(self.W)-1:\n",
    "                x = np.matmul(w.T,x)+b\n",
    "            else:\n",
    "                x = self.activation_function(np.matmul(w.T,x) + b)\n",
    "            counter +=1\n",
    "        return x\n",
    "    \n",
    "    def train(self, x_train, y_train, k = 1, mu = 1e-2, batch=1):\n",
    "        # Esto lo tienen que implementar, la función no debe regresar nada\n",
    "        pass\n",
    "    \n",
    "    def cost_function(self, x_train, y_train):\n",
    "        L = 0\n",
    "        N = x_train.shape[0]\n",
    "        for x, y in zip(x_train, y_train):\n",
    "            diff = y - self.evaluate(x)\n",
    "            L += np.inner(diff, diff)/(2*N)\n",
    "        return L\n",
    "    \n",
    "    @staticmethod\n",
    "    def activation_function(x):\n",
    "        return np.vectorize(lambda s: 1/(1+np.exp(-s)))(x)\n",
    "    @staticmethod\n",
    "    def activation_function_p(x):\n",
    "        res = np.vectorize(lambda s: 1/(1+np.exp(-s)))(x)\n",
    "        return res*(1-res)"
   ]
  },
  {
   "cell_type": "markdown",
   "metadata": {},
   "source": [
    "Definimos una red neuronal ahora, usando esta clase"
   ]
  },
  {
   "cell_type": "code",
   "execution_count": null,
   "metadata": {},
   "outputs": [],
   "source": [
    "nn = SimpleNetwork(50)"
   ]
  },
  {
   "cell_type": "markdown",
   "metadata": {},
   "source": [
    "Y ahora vamos a evaluar la red en un intervalo, digamos del 0 al 10"
   ]
  },
  {
   "cell_type": "code",
   "execution_count": null,
   "metadata": {},
   "outputs": [],
   "source": [
    "x = np.linspace(0,10,50)\n",
    "y_pred = np.zeros(shape=(50))\n",
    "\n",
    "for idx, val in enumerate(x):\n",
    "    y_pred[idx] = nn.evaluate(np.array([[val]]))\n",
    "    \n",
    "plt.plot(x, y_pred, '.-')"
   ]
  },
  {
   "cell_type": "markdown",
   "metadata": {},
   "source": [
    "### Supernota\n",
    "\n",
    "Noten por favor que la neurona de salida **no** pasa aplica ninguna función de activación. Si hiciese esto, obtendría sólo valores entre el 0 y el 1, y yo quiero la combinación lineal de los resultados de las neuronas anteriores."
   ]
  },
  {
   "cell_type": "markdown",
   "metadata": {},
   "source": [
    "## Poniendo a prueba la red\n",
    "\n",
    "Lo que sigue es ver qué tan buena es esta red para conseguir _mimetizar_ una función cualquiera. De momento, vamos a tomar una función que en los extremos se aplane (sólo por fines de convergencia). Digamos, una campana de gauss"
   ]
  },
  {
   "cell_type": "code",
   "execution_count": null,
   "metadata": {},
   "outputs": [],
   "source": [
    "target = np.vectorize(lambda x: np.exp(-(x-5)**2/2)*3)"
   ]
  },
  {
   "cell_type": "markdown",
   "metadata": {},
   "source": [
    "Que en una gráfica, se ve masomenos así"
   ]
  },
  {
   "cell_type": "code",
   "execution_count": null,
   "metadata": {},
   "outputs": [],
   "source": [
    "plt.plot(x, target(x), '.-')"
   ]
  },
  {
   "cell_type": "markdown",
   "metadata": {},
   "source": [
    "Como set de datos, vamos a hacer un muestreo de esta función con una distribución uniforme en el intervalo [0, 10]"
   ]
  },
  {
   "cell_type": "code",
   "execution_count": null,
   "metadata": {},
   "outputs": [],
   "source": [
    "#Su solución aquí\n",
    "x_train = ###\n",
    "y_train = target(x_train)\n",
    "plt.plot(x_train, y_train, '.')"
   ]
  },
  {
   "cell_type": "markdown",
   "metadata": {},
   "source": [
    "Ahora sí, pasaremos ese dato a la red y vamos a entrenarla, grafieque el resultado en el mismo intervalo que al principio y diga si el resultado fue satisfactorio."
   ]
  }
 ],
 "metadata": {
  "kernelspec": {
   "display_name": "Python 3",
   "language": "python",
   "name": "python3"
  },
  "language_info": {
   "codemirror_mode": {
    "name": "ipython",
    "version": 3
   },
   "file_extension": ".py",
   "mimetype": "text/x-python",
   "name": "python",
   "nbconvert_exporter": "python",
   "pygments_lexer": "ipython3",
   "version": "3.7.0"
  }
 },
 "nbformat": 4,
 "nbformat_minor": 2
}
